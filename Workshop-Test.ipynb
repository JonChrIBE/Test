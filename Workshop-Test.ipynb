{
  "cells": [
    {
      "cell_type": "raw",
      "metadata": {},
      "source": [
        "---\n",
        "title: Importing Libraries\n",
        "---"
      ],
      "id": "48b52063"
    },
    {
      "cell_type": "code",
      "metadata": {
        "tags": []
      },
      "source": [
        "from IPython.display import display \n",
        "import ipywidgets as widgets \n",
        "from ipywidgets import interact, Layout "
      ],
      "id": "d0df2cf4",
      "execution_count": null,
      "outputs": []
    },
    {
      "cell_type": "code",
      "metadata": {
        "tags": []
      },
      "source": [
        "from ipywidgets import IntSlider \n",
        "IntSlider(value=7,min=0,max=10,step=1,\n",
        "          description='IntSlider:',orientation='horizontal')"
      ],
      "id": "ef3132be",
      "execution_count": null,
      "outputs": []
    },
    {
      "cell_type": "code",
      "metadata": {
        "tags": []
      },
      "source": [
        "from ipywidgets import Text, IntSlider, Dropdown\n",
        "# Erstelle ein neues Text-Eingabefeld tb1 und zeige es an.\n",
        "tb1 = Text(value='Text eingeben', \n",
        "                   description='Text-Widget: ')\n",
        "display(tb1)\n",
        "# Erstelle IntSlider-Widget is1 und zeige es an.\n",
        "is1 = IntSlider(value=7, min=0, max=10, \n",
        "                        step=1, description='IntSlider: ')\n",
        "display(is1)\n",
        "# Erstelle Dropdown-Widget dd1 und zeige es an\n",
        "dd1 = Dropdown(options=['1', '2', '3'], \n",
        "                       value='2', description='Dropdown: ')\n",
        "display(dd1)"
      ],
      "id": "531d3b4a",
      "execution_count": null,
      "outputs": []
    },
    {
      "cell_type": "code",
      "metadata": {
        "tags": []
      },
      "source": [
        "import ipywidgets\n",
        "from ipywidgets import Text, Button\n",
        "# Erstelle zwei Text-Eingabefelder\n",
        "textbox1 = Text(description='a'); display(textbox1)\n",
        "textbox2 = Text(description='b');display(textbox2)\n",
        "# ... einen Button\n",
        "button = Button(description='Calc!', \n",
        "                        layout=Layout(width='200px'))\n",
        "button.style.button_color = 'red'\n",
        "display(button)\n",
        "# ... und ein Text-Ausgabefeld für die Summe\n",
        "textbox3 = Text(description='Summe')\n",
        "display(textbox3)\n",
        "# Definiere Eventhandler für den Button\n",
        "def on_button_clicked(sender):\n",
        "    a = int(textbox1.value)\n",
        "    b = int(textbox2.value)\n",
        "    textbox3.value = str(a+b)\n",
        "# ... und weise ihn dem on_click-Ereignis zu\n",
        "button.on_click(on_button_clicked)"
      ],
      "id": "030ce6a2",
      "execution_count": null,
      "outputs": []
    },
    {
      "cell_type": "code",
      "metadata": {
        "tags": []
      },
      "source": [
        " # myfunc1 gibt einen Text aus, der von x abhängt \n",
        " def myfunc1(x):  \n",
        "     print('Auswahl: ' + str(x)) \n",
        " # interact erzeugt Dropdown-Widget \n",
        " interact(myfunc1, x = [1, 2, 3]); "
      ],
      "id": "05436812",
      "execution_count": null,
      "outputs": []
    },
    {
      "cell_type": "code",
      "metadata": {
        "tags": []
      },
      "source": [
        " # myfunc2 gibt den eingegebenen Text aus \n",
        " def myfunc2(x):  \n",
        "     print('Ihre Eingabe: ' + str(x)) \n",
        " interact(myfunc2, x = 'Text eingeben'); "
      ],
      "id": "07d6881b",
      "execution_count": null,
      "outputs": []
    },
    {
      "cell_type": "code",
      "metadata": {
        "tags": []
      },
      "source": [
        " import matplotlib.pyplot as plt \n",
        " from numpy import arange,sin,pi \n",
        " # Definiere myplot-Funktion  \n",
        " def myplot(xmax): \n",
        "     x = arange(0, xmax, 0.01);y = sin(2*pi*x); \n",
        "     plt.plot(x,y); \n",
        " # Erstelle ein Widget für den Plot mit Hilfe von interact \n",
        " interact(myplot, xmax = (pi/2,4*pi)); "
      ],
      "id": "ca0237a4",
      "execution_count": null,
      "outputs": []
    },
    {
      "cell_type": "code",
      "metadata": {
        "tags": []
      },
      "source": [
        "import pandas as pd\n",
        "def display_dataframe(df, rows=6, cols=6):\n",
        "    with pd.option_context('display.max_rows', rows, \n",
        "                    'display.max_columns', cols):  \n",
        "        display(df)\n",
        "def select_data(spalten): \n",
        "    df2 = df.loc[:,spalten];  \n",
        "    ax = df2.plot(); \n",
        "    ax.set_ylabel('Tägl. Verbrauch (GWh)'); "
      ],
      "id": "a3214f57",
      "execution_count": null,
      "outputs": []
    },
    {
      "cell_type": "code",
      "metadata": {
        "tags": []
      },
      "source": [
        "out1, out2 = widgets.Output(), widgets.Output()\n",
        "with out1:\n",
        "    file = 'opsd_2018.csv'\n",
        "    df = pd.read_csv(file, header=0, sep = \",\", index_col=0, parse_dates=True) \n",
        "    display_dataframe(df)\n",
        "with out2: \n",
        "    ui_spalten = widgets.Dropdown(description='Auswahl:', \n",
        "                                  options=df.columns[0:], value='Verbrauch', \n",
        "                                  layout=Layout(width='auto'))\n",
        "    out = widgets.interactive_output(select_data, {'spalten': ui_spalten}); \n",
        "    display(widgets.VBox([ui_spalten, out]))\n",
        "    \n",
        "tab = widgets.Tab(children = [out1, out2], layout=Layout(width='70%'))\n",
        "tab.set_title(0, 'Daten')\n",
        "tab.set_title(1, 'Grafik')\n",
        "display(tab)"
      ],
      "id": "e6402732",
      "execution_count": null,
      "outputs": []
    },
    {
      "cell_type": "code",
      "metadata": {
        "tags": []
      },
      "source": [
        "def myplot(xmax):\n",
        "     x = arange(0, xmax, 0.01)\n",
        "     y = sin(2*pi*x)\n",
        "     plt.plot(x,y)\n",
        "ui_xmax = widgets.FloatSlider(description='xmax', value=10, min=pi/2, max=2*pi);\n",
        "out = widgets.interactive_output(myplot, {'xmax': ui_xmax}); \n",
        "display(VBox([ui_xmax,out], layout=Layout(width='50%',border='1px dotted blue')))"
      ],
      "id": "2da19937",
      "execution_count": null,
      "outputs": []
    },
    {
      "cell_type": "code",
      "metadata": {
        "tags": []
      },
      "source": [
        "import pandas as pd\n",
        "import ipywidgets as widgets\n",
        "def display_dataframe(df, rows=6, cols=6):\n",
        "  with pd.option_context('display.max_rows', rows, \n",
        "                         'display.max_columns', cols):  \n",
        "                         display(df)\n",
        "def select_data(spalten): \n",
        "    df2 = df.loc[:,spalten];  \n",
        "    ax = df2.plot(); \n",
        "    ax.set_ylabel('Tägl. Verbrauch (GWh)'); "
      ],
      "id": "a97b3147",
      "execution_count": null,
      "outputs": []
    },
    {
      "cell_type": "code",
      "metadata": {
        "tags": []
      },
      "source": [
        "from ipywidgets import Output, Layout, Dropdown, Tab, VBox\n",
        "from ipywidgets import interactive_output\n",
        "out1, out2 = Output(), Output()\n",
        "with out1:\n",
        "  file = 'https://elab2go.de/demo-py5/opsd_2018.csv'\n",
        "  df = pd.read_csv(file, header=0, sep = \",\", \n",
        "                   index_col=0, parse_dates=True) \n",
        "  display_dataframe(df)\n",
        "with out2: \n",
        "  ui_spalten = Dropdown(description='Auswahl:', \n",
        "                        options=df.columns[0:], value='Verbrauch', \n",
        "                        layout=Layout(width='auto'))\n",
        "  out = interactive_output(select_data, {'spalten': ui_spalten}); \n",
        "  display(VBox([ui_spalten, out]))\n",
        "    \n",
        "tab = Tab(children = [out1, out2], \n",
        "          layout=Layout(width='70%'))\n",
        "tab.set_title(0, 'Daten')\n",
        "tab.set_title(1, 'Grafik')\n",
        "display(tab)"
      ],
      "id": "f8c348f1",
      "execution_count": null,
      "outputs": []
    },
    {
      "cell_type": "code",
      "metadata": {
        "tags": []
      },
      "source": [
        "from ipyleaflet import Map, basemaps, basemap_to_tiles\n",
        "\n",
        "lat = 48\n",
        "long = 350\n",
        "\n",
        "print(\"title=\", f\"World Map at {lat}, {long}\")\n",
        "\n",
        "Map(basemap=basemap_to_tiles(basemaps.OpenStreetMap.Mapnik),\n",
        "    center=(lat, long), zoom=2)"
      ],
      "id": "e7b4c44b",
      "execution_count": null,
      "outputs": []
    }
  ],
  "metadata": {
    "kernelspec": {
      "display_name": "Python 3",
      "language": "python",
      "name": "python3"
    }
  },
  "nbformat": 4,
  "nbformat_minor": 5
}
